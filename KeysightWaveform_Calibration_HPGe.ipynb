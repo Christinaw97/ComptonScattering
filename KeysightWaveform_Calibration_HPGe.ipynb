{
 "cells": [
  {
   "cell_type": "code",
   "execution_count": 1,
   "metadata": {},
   "outputs": [
    {
     "name": "stdout",
     "output_type": "stream",
     "text": [
      "Welcome to JupyROOT 6.22/08\n"
     ]
    }
   ],
   "source": [
    "import csv\n",
    "import numpy as np\n",
    "import ROOT as rt\n",
    "from glob import glob\n",
    "import os\n",
    "import uproot\n",
    "\n",
    "from histo_utilities import create_TH1D, create_TH2D\n",
    "\n",
    "\n",
    "donotdelete = []"
   ]
  },
  {
   "cell_type": "markdown",
   "metadata": {},
   "source": [
    "# load ROOT files"
   ]
  },
  {
   "cell_type": "code",
   "execution_count": 65,
   "metadata": {},
   "outputs": [
    {
     "name": "stdout",
     "output_type": "stream",
     "text": [
      "target_co57 /Users/christinawang/Desktop/Caltech/Research/DM/data/hpge//20210906//output_Co57Calib_DUT_run1_20_converted.root\n",
      "(100000, 3)\n",
      "tag_co57 /Users/christinawang/Desktop/Caltech/Research/DM/data/hpge//20210906//output_Co57Calib_TAG_run21_40_converted.root\n",
      "(100000, 3)\n"
     ]
    }
   ],
   "source": [
    "f = {}\n",
    "calibration = {}\n",
    "# f['output'] = '/Users/christinawang/Desktop/Caltech/Research/DM/data/20210309/output_runAll_converted.root'\n",
    "# date = '/20210313/'\n",
    "\n",
    "date = '/20210906/'\n",
    "# # channel 1 Lyso DUT\n",
    "if '20210830' in date:\n",
    "    f['target_co57'] = '/Users/christinawang/Desktop/Caltech/Research/DM/data/hpge/'+date+'/output_Co57_Target_run1-20_converted.root'\n",
    "    f['tag_co57'] = '/Users/christinawang/Desktop/Caltech/Research/DM/data/hpge/'+date+'/output_Co57_Tag_run21-40_converted.root'\n",
    "    #20210830 from gaus_amp to energy\n",
    "    calibration['target'] = [0.063, 3.526] #p1, p0 / slope, y-intercept\n",
    "    calibration['tag'] = [0.056, 4.091] #p1, p0 / slope, y-intercept\n",
    "\n",
    "if '20210906' in date:\n",
    "    f['target_co57'] = '/Users/christinawang/Desktop/Caltech/Research/DM/data/hpge/'+date+'/output_Co57Calib_DUT_run1_20_converted.root'\n",
    "    f['tag_co57'] = '/Users/christinawang/Desktop/Caltech/Research/DM/data/hpge/'+date+'/output_Co57Calib_TAG_run21_40_converted.root'\n",
    "    #20210830 from gaus_amp to energy\n",
    "    calibration['target'] = [0.03117, 0.028 ] #p1, p0 / slope, y-intercept\n",
    "    calibration['tag'] = [0.0582, 0.025] #p1, p0 / slope, y-intercept\n",
    "\n",
    "\n",
    "\n",
    "\n",
    "\n",
    "calib = 1\n",
    "\n",
    "plot_path = '/Users/christinawang/Desktop/Caltech/Research/DM/plots/'+date\n",
    "if not os.path.isdir(plot_path):os.makedirs(plot_path)\n",
    "# Amp_x_R = 1e-9*(1.0/50.0) * 1e12 # nV to pC\n",
    "peaks_pc = {}\n",
    "tree = {}\n",
    "h = {}\n",
    "gaus_amp = {}\n",
    "gaus_mean = {}\n",
    "gaus_sigma = {}\n",
    "gaus_chi2 = {}\n",
    "baseline_RMS = {}\n",
    "\n",
    "for k,v in f.items():\n",
    "    print (k, v)\n",
    "    root_dir = uproot.open(v) \n",
    "    tree[k] = root_dir['pulse']\n",
    "    a = np.array(tree[k][\"i_evt\"])\n",
    "    gaus_amp[k] = np.array(tree[k][\"gaus_amp\"]) # in mV\n",
    "    gaus_mean[k] = np.array(tree[k][\"gaus_mean\"]) # in ns\n",
    "    gaus_sigma[k] = np.array(tree[k][\"gaus_sigma\"]) # in ns\n",
    "    baseline_RMS[k] = np.array(tree[k][\"baseline_RMS\"]) # in mV\n",
    "\n",
    "\n",
    "\n",
    "\n",
    "\n",
    "    if calib:\n",
    "        if 'target' in k:gaus_amp[k] = gaus_amp[k]*calibration['target'][0]+calibration['target'][1]\n",
    "        elif 'tag' in k:gaus_amp[k] = gaus_amp[k]*calibration['tag'][0]+calibration['tag'][1]\n",
    "#     else: integral[k] = integral[k]*calibration['ch3_NaI'][0]+calibration['ch3_NaI'][1]\n",
    "    baseline_RMS[k] = np.array(tree[k][\"baseline_RMS\"])\n",
    "    print(gaus_amp[k].shape)"
   ]
  },
  {
   "cell_type": "code",
   "execution_count": 16,
   "metadata": {},
   "outputs": [],
   "source": [
    "def peak_finding(v,k):\n",
    "    SS = rt.TSpectrum()\n",
    "    n_pks = SS.Search(v, 0.1, \"\", 0.002)\n",
    "    x_pos = SS.GetPositionX()\n",
    "    y_pos = SS.GetPositionY()\n",
    "    pks = []\n",
    "    print (n_pks)\n",
    "    for j in range(n_pks):\n",
    "        if not j == 0:continue\n",
    "        n_pk = v.FindBin(x_pos[j])\n",
    "        if j == 0:\n",
    "            thr = 0.4 * v.GetBinContent(n_pk)\n",
    "        else:\n",
    "            thr = 0.4 * v.GetBinContent(n_pk)\n",
    "        n_low = n_pk\n",
    "        while v.GetBinContent(n_low) > thr:\n",
    "            n_low -= 1\n",
    "        x_low = v.GetBinCenter(n_low)    \n",
    "        n_up = n_pk\n",
    "        while v.GetBinContent(n_up) > thr:\n",
    "            n_up += 1\n",
    "        x_up = v.GetBinCenter(n_up)\n",
    "        r = v.Fit('gaus', 'LRSQ+', '', x_low, x_up)\n",
    "        r = r.Get()\n",
    "        print( 'Fit p-val = {:.2f}'.format(r.Prob()))\n",
    "        print(k, 'number in nVs',r.Parameter(1), r.Parameter(2))\n",
    "\n",
    "\n"
   ]
  },
  {
   "cell_type": "markdown",
   "metadata": {},
   "source": [
    "# plot Co57 peak"
   ]
  },
  {
   "cell_type": "code",
   "execution_count": 74,
   "metadata": {
    "scrolled": false
   },
   "outputs": [
    {
     "name": "stderr",
     "output_type": "stream",
     "text": [
      "/usr/local/lib/python3.9/site-packages/root_numpy/_hist.py:75: DeprecationWarning: `np.int` is a deprecated alias for the builtin `int`. To silence this warning, use `int` by itself. Doing this will not modify any behavior and is safe. When replacing `np.int`, you may wish to use e.g. `np.int64` or `np.int32` to specify the precision. If you wish to review your current use, check the release note link for additional information.\n",
      "Deprecated in NumPy 1.20; for more details and guidance: https://numpy.org/devdocs/release/1.20.0-notes.html#deprecations\n",
      "  return _librootnumpy.fill_h1(\n",
      "Warning in <TCanvas::Constructor>: Deleting canvas with same name: c_spectrum\n",
      "Warning in <TROOT::Append>: Replacing existing TH1: h (Potential memory leak).\n",
      "Info in <TCanvas::Print>: png file /Users/christinawang/Desktop/Caltech/Research/DM/plots//20210906/channel2_energy_calibration.png has been created\n"
     ]
    },
    {
     "data": {
      "image/png": "[encoded data removed]",
      "text/plain": [
       "<IPython.core.display.Image object>"
      ]
     },
     "metadata": {},
     "output_type": "display_data"
    }
   ],
   "source": [
    "\n",
    "c = rt.TCanvas('c_spectrum', 'c_spectrum', 800, 600)\n",
    "#rt.gStyle.SetOptFit(000002200)\n",
    "# rt.gStyle.SetOptFit(000002200)\n",
    "# rt.gStyle.SetTitleSize(0.8)\n",
    "leg = rt.TLegend(0.15,0.65,0.4,0.9)\n",
    "leg = rt.TLegend(0.65,0.65,0.9,0.9)\n",
    "\n",
    "\n",
    "h = {}\n",
    "\n",
    "i = 0\n",
    "ch = 2\n",
    "for k in tree.keys():\n",
    "    if not 'tag' in k:continue\n",
    "    if calib:\n",
    "        bins = [500,0,150]\n",
    "        xaxis = 'Energy [keV]'\n",
    "    else: \n",
    "        if ch == 0:bins = [1000,3500,4500]\n",
    "        else:bins = [500,0,2500]\n",
    "        xaxis = 'Amplitude [mV]'\n",
    "    h[k] = create_TH1D(gaus_amp[k][:,ch], binning = bins,axis_title = [xaxis, 'Events'])\n",
    "\n",
    "\n",
    "    v = h[k]\n",
    "\n",
    "    v.SetStats(0)\n",
    "    v.SetTitle('')\n",
    "    v.GetXaxis().SetTitleSize(0.06)\n",
    "    v.GetXaxis().SetTitleOffset(0.9)\n",
    "    v.GetXaxis().SetLabelSize(0.05)\n",
    "\n",
    "    v.GetYaxis().SetTitleSize(0.06)\n",
    "    v.GetYaxis().SetTitleOffset(0.9)\n",
    "    v.GetYaxis().SetLabelSize(0.05)\n",
    "    v.SetLineColor(i+1)\n",
    "    v.SetLineWidth(2)\n",
    "    v.Scale(1./v.Integral())\n",
    "\n",
    "\n",
    "\n",
    "    v.DrawCopy('hist' if i == 0 else 'hist same')\n",
    "#     peak_finding(v,k)\n",
    "\n",
    "\n",
    "    leg.AddEntry(v,k)\n",
    "    i+=1\n",
    "c.SetLeftMargin(0.11)\n",
    "c.SetBottomMargin(0.12)\n",
    "\n",
    "# leg.Draw()\n",
    "# c.SetLogy()\n",
    "c.SetGrid()\n",
    "c.Draw()\n",
    "if calib: c.SaveAs(plot_path+'channel'+str(ch)+'_energy_calibration.png')\n",
    "else: c.SaveAs(plot_path+'channel'+str(ch)+'_calibration.png')\n",
    "donotdelete.append(c)"
   ]
  },
  {
   "cell_type": "code",
   "execution_count": 53,
   "metadata": {},
   "outputs": [],
   "source": [
    "# gamma: 0.014 MeV (9.54 %) 0.122 MeV (85.6 %) 0.136 MeV (10.6 %) 0.692 MeV (0.02 %)\n",
    "\n",
    "peaks = {}\n",
    "peaks_err = {}\n",
    "#20210830 [mV --> keV]\n",
    "peaks['target'] = [0, 1887.04, 2110.03]\n",
    "peaks['tag'] = [0, 2092.64, 2341.11]\n",
    "peaks_err['target'] = [0, 5.20, 5.25]\n",
    "peaks_err['tag'] = [0, 7.53, 6.76]\n",
    "y_peak = [  0, 122, 136]\n",
    "\n",
    "#20210906 [mV --> keV]\n",
    "peaks['target'] = [0, 3904.7, 4370.3]\n",
    "peaks['tag'] = [0, 2091.4, 2339.8]\n",
    "peaks_err['target'] = [10.1, 10.1, 10.0]\n",
    "peaks_err['tag'] = [7.4 ,7.4, 7.2]\n",
    "y_peak = [  0, 122, 136]"
   ]
  },
  {
   "cell_type": "code",
   "execution_count": 54,
   "metadata": {},
   "outputs": [],
   "source": [
    "gr_gain = {}\n",
    "for k in peaks.keys():\n",
    "    gr_gain[k] = rt.TGraphErrors(len(peaks[k]))\n",
    "    for i in range(len(peaks[k])):\n",
    "        gr_gain[k].SetPoint(int(i), peaks[k][i], y_peak[i])\n",
    "        gr_gain[k].SetPointError(int(i), peaks_err[k][i],0.0)\n"
   ]
  },
  {
   "cell_type": "code",
   "execution_count": 58,
   "metadata": {
    "scrolled": false
   },
   "outputs": [
    {
     "name": "stdout",
     "output_type": "stream",
     "text": [
      "\n",
      "****************************************\n",
      "Minimizer is Minuit / Migrad\n",
      "Chi2                      =     0.585482\n",
      "NDf                       =            1\n",
      "Edm                       =   3.1729e-11\n",
      "NCalls                    =           25\n",
      "p0                        =    0.0254844   +/-   0.429329    \n",
      "p1                        =    0.0582036   +/-   0.00023551  \n",
      "\n",
      "tag p-val = 0.444\n",
      " FCN=0.585482 FROM MIGRAD    STATUS=CONVERGED      24 CALLS          25 TOTAL\n",
      "                     EDM=3.1729e-11    STRATEGY= 1      ERROR MATRIX ACCURATE \n",
      "  EXT PARAMETER                                   STEP         FIRST   \n",
      "  NO.   NAME      VALUE            ERROR          SIZE      DERIVATIVE \n",
      "   1  p0           2.54844e-02   4.29329e-01   1.51472e-04   9.66690e-06\n",
      "   2  p1           5.82036e-02   2.35510e-04   8.30903e-08  -1.78454e-02\n"
     ]
    },
    {
     "name": "stderr",
     "output_type": "stream",
     "text": [
      "Warning in <TCanvas::Constructor>: Deleting canvas with same name: c_gain\n"
     ]
    },
    {
     "data": {
      "image/png": "[encoded data removed]",
      "text/plain": [
       "<IPython.core.display.Image object>"
      ]
     },
     "metadata": {},
     "output_type": "display_data"
    }
   ],
   "source": [
    "c_gain = rt.TCanvas('c_gain', 'c_gain', 900, 600)\n",
    "\n",
    "for i, k in enumerate(gr_gain.keys()):\n",
    "    if not i == 1:continue\n",
    "    r = gr_gain[k].Fit('pol1', 'S')\n",
    "    r = r.Get()\n",
    "    print(r)\n",
    "    print(k, 'p-val = {:.3f}'.format(r.Prob()))\n",
    "    \n",
    "    gr_gain[k].SetMarkerColor(1)\n",
    "    gr_gain[k].SetMarkerSize(2)\n",
    "    gr_gain[k].SetLineWidth(2)\n",
    "\n",
    "\n",
    "\n",
    "#     gr_gain[k].Draw('AP*E1' if i== 0 else 'AP*E1 same')\n",
    "    gr_gain[k].Draw('AP*E1')\n",
    "\n",
    "\n",
    "    gr_gain[k].SetTitle(\"\")\n",
    "    gr_gain[k].GetXaxis().SetTitle('Amplitude [mV]')\n",
    "    gr_gain[k].GetYaxis().SetTitle('Energy [keV]')\n",
    "    gr_gain[k].GetYaxis().SetLimits(0,200)\n",
    "    gr_gain[k].GetXaxis().SetLimits(0, 3000)\n",
    "#     else:gr_gain[k].GetXaxis().SetLimits(0, 3000)\n",
    "\n",
    "\n",
    "    gr_gain[k].GetXaxis().SetTitleSize(0.06)\n",
    "    gr_gain[k].GetXaxis().SetTitleOffset(0.9)\n",
    "    gr_gain[k].GetXaxis().SetLabelSize(0.05)\n",
    "\n",
    "    gr_gain[k].GetYaxis().SetTitleSize(0.06)\n",
    "    gr_gain[k].GetYaxis().SetTitleOffset(0.9)\n",
    "    gr_gain[k].GetYaxis().SetLabelSize(0.05)\n",
    "\n",
    "c_gain.SetLeftMargin(0.11)\n",
    "c_gain.SetBottomMargin(0.12)\n",
    "\n",
    "c_gain.SetGrid()\n",
    "c_gain.Draw()\n",
    "\n",
    "# rt.gStyle.SetOptFit(0)"
   ]
  },
  {
   "cell_type": "code",
   "execution_count": null,
   "metadata": {},
   "outputs": [],
   "source": []
  }
 ],
 "metadata": {
  "kernelspec": {
   "display_name": "Python 2",
   "language": "python",
   "name": "python2"
  },
  "language_info": {
   "codemirror_mode": {
    "name": "ipython",
    "version": 3
   },
   "file_extension": ".py",
   "mimetype": "text/x-python",
   "name": "python",
   "nbconvert_exporter": "python",
   "pygments_lexer": "ipython3",
   "version": "3.9.6"
  }
 },
 "nbformat": 4,
 "nbformat_minor": 2
}
