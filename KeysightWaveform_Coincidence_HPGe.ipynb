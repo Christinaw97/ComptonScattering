{
 "cells": [
  {
   "cell_type": "code",
   "execution_count": 1,
   "metadata": {},
   "outputs": [
    {
     "name": "stdout",
     "output_type": "stream",
     "text": [
      "Welcome to JupyROOT 6.22/08\n"
     ]
    }
   ],
   "source": [
    "import csv\n",
    "import numpy as np\n",
    "import ROOT as rt\n",
    "from glob import glob\n",
    "from histo_utilities import create_TH1D, create_TH2D\n",
    "import os\n",
    "\n",
    "import uproot\n",
    "donotdelete = []"
   ]
  },
  {
   "cell_type": "code",
   "execution_count": 56,
   "metadata": {},
   "outputs": [
    {
     "name": "stdout",
     "output_type": "stream",
     "text": [
      "coincidence /Users/christinawang/Desktop/Caltech/Research/DM/data/hpge/20210927/output_Co57_coincidence_run1-67_converted.root\n",
      "(6700, 3)\n"
     ]
    }
   ],
   "source": [
    "f = {}\n",
    "calibration = {}\n",
    "# f['output'] = '/Users/christinawang/Desktop/Caltech/Research/DM/data/20210309/output_runAll_converted.root'\n",
    "date = '20210927'\n",
    "# f['coincidence'] = '/Users/christinawang/Desktop/Caltech/Research/DM/data/hpge/'+date+'/output_Co57_coincidence_run1-116_converted.root'\n",
    "\n",
    "if date == '20210903':\n",
    "    f['coincidence'] = '/Users/christinawang/Desktop/Caltech/Research/DM/data/hpge/'+date+'/output_Co57_coincidence_run1-145_converted.root'\n",
    "\n",
    "\n",
    "if date == '20210904':\n",
    "    f['coincidence'] = '/Users/christinawang/Desktop/Caltech/Research/DM/data/hpge/'+date+'/output_Co57_coincidence_run1-116_converted.root'\n",
    "if date == '20210905':\n",
    "    f['coincidence'] = '/Users/christinawang/Desktop/Caltech/Research/DM/data/hpge/'+date+'/output_Co57_coincidence_run1-83_converted.root'\n",
    "if date == '20210907':\n",
    "    f['coincidence'] = '/Users/christinawang/Desktop/Caltech/Research/DM/data/hpge/'+date+'/output_Co57_coincidence_run1-61_converted.root'\n",
    "if date == '20210908':\n",
    "    f['coincidence'] = '/Users/christinawang/Desktop/Caltech/Research/DM/data/hpge/'+date+'/output_Co57_coincidence_run1-185_converted.root'\n",
    "\n",
    "if date == '20210917':\n",
    "    f['coincidence'] = '/Users/christinawang/Desktop/Caltech/Research/DM/data/hpge/'+date+'/output_Co57_coincidence_run1-264_converted.root'\n",
    "if date == '20210920':\n",
    "    f['coincidence'] = '/Users/christinawang/Desktop/Caltech/Research/DM/data/hpge/'+date+'/output_Co57_coincidence_run1-63_converted.root'\n",
    "\n",
    "if date == '20210921':\n",
    "    f['coincidence'] = '/Users/christinawang/Desktop/Caltech/Research/DM/data/hpge/'+date+'/output_Co57_coincidence_run1-46_converted.root'\n",
    "\n",
    "\n",
    "if date == '20210924':\n",
    "    f['coincidence'] = '/Users/christinawang/Desktop/Caltech/Research/DM/data/hpge/'+date+'/output_Co57_coincidence_run1-53_converted.root'\n",
    "\n",
    "if date == '20210925':\n",
    "    f['coincidence'] = '/Users/christinawang/Desktop/Caltech/Research/DM/data/hpge/'+date+'/output_Co57_coincidence_run1-75_converted.root'\n",
    "\n",
    "if date == '20210927':\n",
    "    f['coincidence'] = '/Users/christinawang/Desktop/Caltech/Research/DM/data/hpge/'+date+'/output_Co57_coincidence_run1-67_converted.root'\n",
    "\n",
    "\n",
    "\n",
    "\n",
    "\n",
    "\n",
    "\n",
    "plot_path = '/Users/christinawang/Desktop/Caltech/Research/DM/plots/'+date\n",
    "if not os.path.isdir(plot_path):os.makedirs(plot_path)\n",
    "\n",
    "#20210830 from gaus_amp to energy\n",
    "# calibration['target'] = [0.063, 3.526] #p1, p0 / slope, y-intercept\n",
    "# calibration['tag'] = [0.056, 4.091] #p1, p0 / slope, y-intercept\n",
    "\n",
    "#20210906 calibration, for data starting on 20210903\n",
    "calibration['target'] = [0.03117, 0.028 ] #p1, p0 / slope, y-intercept\n",
    "calibration['tag'] = [0.0582, 0.025] #p1, p0 / slope, y-intercept\n",
    "\n",
    "\n",
    "tree = {}\n",
    "h = {}\n",
    "gaus_amp = {}\n",
    "time = {}\n",
    "baseline_RMS = {}\n",
    "baseline = {}\n",
    "gaus_sigma = {}\n",
    "for k,v in f.items():\n",
    "    print (k, v)\n",
    "    root_dir = uproot.open(v) \n",
    "\n",
    "    tree[k] = root_dir['pulse']\n",
    "    \n",
    "    gaus_amp[k] = np.array(tree[k][\"gaus_amp\"])\n",
    "    baseline_RMS[k] = np.array(tree[k][\"baseline_RMS\"])\n",
    "   \n",
    "    baseline[k] = np.array(tree[k][\"baseline\"])\n",
    "    time[k] = np.array(tree[k][\"gaus_mean\"])\n",
    "    gaus_sigma[k] = np.array(tree[k][\"gaus_sigma\"]) # in ns\n",
    "\n",
    "\n",
    "    gaus_amp[k][:,0] = gaus_amp[k][:,0]*calibration['target'][0]+calibration['target'][1]\n",
    "    gaus_amp[k][:,2] = gaus_amp[k][:,2]*calibration['tag'][0]+calibration['tag'][1]\n",
    "    print(gaus_amp[k].shape)"
   ]
  },
  {
   "cell_type": "code",
   "execution_count": 57,
   "metadata": {},
   "outputs": [],
   "source": [
    "def peak_finding(hist, k):\n",
    "    SS = rt.TSpectrum()\n",
    "    n_pks = SS.Search(hist, 0.1, \"\", 0.02)\n",
    "    x_pos = SS.GetPositionX()\n",
    "    y_pos = SS.GetPositionY()\n",
    "    pks = []\n",
    "    print( \"#############################################\")\n",
    "    print (\"Number of peaks for \" + k + \":\", n_pks)\n",
    "    for j in range(n_pks):\n",
    "        n_pk = hist.FindBin(x_pos[j])\n",
    "        if j == 0:\n",
    "            thr = 0.7 * hist.GetBinContent(n_pk)\n",
    "        else:\n",
    "            thr = 0.7 * hist.GetBinContent(n_pk)\n",
    "        n_low = n_pk\n",
    "        while hist.GetBinContent(n_low) > thr:\n",
    "            n_low -= 1\n",
    "        x_low = hist.GetBinCenter(n_low)    \n",
    "        n_up = n_pk\n",
    "        while hist.GetBinContent(n_up) > thr:\n",
    "            n_up += 1\n",
    "        x_up = hist.GetBinCenter(n_up)\n",
    "        r = hist.Fit('gaus', 'LRSQ+', '', x_low, x_up)\n",
    "        r = r.Get()\n",
    "        print( 'Fit p-val = {:.2f}'.format(r.Prob()))\n",
    "        print('number in MeV',r.Parameter(1), r.Parameter(2))\n",
    "    print( \"#############################################\")\n",
    "\n",
    "\n"
   ]
  },
  {
   "cell_type": "code",
   "execution_count": 59,
   "metadata": {
    "scrolled": false
   },
   "outputs": [
    {
     "name": "stderr",
     "output_type": "stream",
     "text": [
      "/usr/local/lib/python3.9/site-packages/root_numpy/_hist.py:75: DeprecationWarning: `np.int` is a deprecated alias for the builtin `int`. To silence this warning, use `int` by itself. Doing this will not modify any behavior and is safe. When replacing `np.int`, you may wish to use e.g. `np.int64` or `np.int32` to specify the precision. If you wish to review your current use, check the release note link for additional information.\n",
      "Deprecated in NumPy 1.20; for more details and guidance: https://numpy.org/devdocs/release/1.20.0-notes.html#deprecations\n",
      "  return _librootnumpy.fill_h1(\n",
      "/usr/local/lib/python3.9/site-packages/root_numpy/_hist.py:75: DeprecationWarning: `np.int` is a deprecated alias for the builtin `int`. To silence this warning, use `int` by itself. Doing this will not modify any behavior and is safe. When replacing `np.int`, you may wish to use e.g. `np.int64` or `np.int32` to specify the precision. If you wish to review your current use, check the release note link for additional information.\n",
      "Deprecated in NumPy 1.20; for more details and guidance: https://numpy.org/devdocs/release/1.20.0-notes.html#deprecations\n",
      "  return _librootnumpy.fill_h1(\n",
      "/usr/local/lib/python3.9/site-packages/root_numpy/_hist.py:75: DeprecationWarning: `np.int` is a deprecated alias for the builtin `int`. To silence this warning, use `int` by itself. Doing this will not modify any behavior and is safe. When replacing `np.int`, you may wish to use e.g. `np.int64` or `np.int32` to specify the precision. If you wish to review your current use, check the release note link for additional information.\n",
      "Deprecated in NumPy 1.20; for more details and guidance: https://numpy.org/devdocs/release/1.20.0-notes.html#deprecations\n",
      "  return _librootnumpy.fill_h1(\n",
      "Warning in <TCanvas::Constructor>: Deleting canvas with same name: c_spectrum\n",
      "Warning in <TROOT::Append>: Replacing existing TH1: h (Potential memory leak).\n",
      "Warning in <TROOT::Append>: Replacing existing TH1: h (Potential memory leak).\n",
      "Warning in <TROOT::Append>: Replacing existing TH1: h (Potential memory leak).\n",
      "Info in <TCanvas::Print>: png file /Users/christinawang/Desktop/Caltech/Research/DM/plots/20210927/energy.png has been created\n"
     ]
    },
    {
     "name": "stdout",
     "output_type": "stream",
     "text": [
      "0 67.0\n",
      "2 67.0\n",
      "Sum 67.0\n",
      "#############################################\n",
      "Number of peaks for channel 0: 6\n",
      "Fit p-val = 0.50\n",
      "number in MeV 6.723747248004387 1.6810204303897023\n",
      "Fit p-val = 0.75\n",
      "number in MeV 19.648023634675837 3.637484739044171\n",
      "Fit p-val = 0.00\n",
      "number in MeV 59.009231559666 6.743495761743043e-07\n",
      "Fit p-val = 0.82\n",
      "number in MeV 87.00000000000001 1.6463478154969708\n",
      "Fit p-val = 1.00\n",
      "number in MeV 76.0 0.6930291973987646\n",
      "Fit p-val = 0.00\n",
      "number in MeV 65.00010237042207 0.09818535276584578\n",
      "#############################################\n",
      "#############################################\n",
      "Number of peaks for channel 2: 5\n",
      "Fit p-val = 0.81\n",
      "number in MeV 129.45597736032713 2.064288769323197\n",
      "Fit p-val = 0.00\n",
      "number in MeV 71.0001024943017 0.09831697663486572\n",
      "Fit p-val = 0.82\n",
      "number in MeV 49.0 1.6463464392168083\n",
      "Fit p-val = 1.00\n",
      "number in MeV 60.00000000000054 0.6930291974810442\n",
      "Fit p-val = 1.00\n",
      "number in MeV 78.0 0.6930286164937787\n",
      "#############################################\n"
     ]
    },
    {
     "data": {
      "image/png": "[encoded data removed]",
      "text/plain": [
       "<IPython.core.display.Image object>"
      ]
     },
     "metadata": {},
     "output_type": "display_data"
    }
   ],
   "source": [
    "rt.gStyle.SetOptStat(0)\n",
    "\n",
    "channel = [0,2]\n",
    "legend = ['Target', 'Tag']\n",
    "c = rt.TCanvas('c_spectrum', 'c_spectrum', 800, 600)\n",
    "h = {}\n",
    "#rt.gStyle.SetOptFit(000002200)\n",
    "# rt.gStyle.SetOptFit(000002200)\n",
    "# rt.gStyle.SetTitleSize(0.8)\n",
    "leg = rt.TLegend(0.7,0.72,0.85,0.88)\n",
    "# leg = rt.TLegend(0.2,0.72,0.35,0.88)\n",
    "leg.SetTextSize(0.04)\n",
    "k = 'coincidence'\n",
    "\n",
    "leg.SetBorderSize(0)\n",
    "bins = [75,0,150]\n",
    "for i, ch in enumerate(channel):\n",
    "#     if ch == 2:continue\n",
    "\n",
    "    cond = np.abs(gaus_sigma[k][:,2]/1000-6)<0.5\n",
    "    cond = np.logical_and(cond, np.abs(time[k][:,0]-time[k][:,2])/1000 < 5)\n",
    "    cond = np.logical_and(cond, baseline_RMS[k][:,0]<24)\n",
    "    cond = np.logical_and(cond, np.abs(gaus_amp['coincidence'][:,0]+gaus_amp['coincidence'][:,2]-136)<1)\n",
    "\n",
    "#     cond = np.logical_and(cond, np.abs(gaus_amp['coincidence'][:,2]-106)<3)\n",
    "\n",
    "\n",
    "\n",
    "\n",
    "    h[str(ch)] = create_TH1D(gaus_amp['coincidence'][:,ch][cond], binning = bins,axis_title = ['Energy [keV]', 'Events'])\n",
    "\n",
    "\n",
    "\n",
    "h['Sum'] = create_TH1D(gaus_amp['coincidence'][:,0][cond]+gaus_amp['coincidence'][:,2][cond], binning = bins,axis_title = ['Energy [keV]', 'Events'])\n",
    "\n",
    "for i, k in enumerate(h.keys()):\n",
    "\n",
    "    h[k].SetTitle('')\n",
    "\n",
    "    if k == '0': leg.AddEntry(h[k],'Target')\n",
    "#     elif k == '0cond': leg.AddEntry(h[k],'Target with cuts')\n",
    "    elif k == '2': leg.AddEntry(h[k],'Tag')\n",
    "#     elif k == '2cond': leg.AddEntry(h[k],'Tag with cuts')\n",
    "    else: leg.AddEntry(h[k],k)\n",
    "\n",
    "\n",
    "    v = h[k].Clone()\n",
    "#     h[ch].SetMaximum(10)\n",
    "    h[k].SetLineColor(i+1)\n",
    "    h[k].SetLineWidth(2)\n",
    "    print(k, h[k].Integral())\n",
    "\n",
    "\n",
    "    h[k].GetXaxis().SetTitleSize(0.05)\n",
    "    h[k].GetYaxis().SetTitleSize(0.05)\n",
    "\n",
    "\n",
    "    h[k].Scale(1./h[k].Integral())\n",
    "#     peak_finding(h['2'],\"channel \"+str(2))\n",
    "\n",
    "    h[k].SetMaximum(0.15)\n",
    "\n",
    "\n",
    "    h[k].DrawCopy('hist' if i == 0 else 'hist same')\n",
    "\n",
    "\n",
    "\n",
    "\n",
    "peak_finding(h['0'],\"channel \"+str(0))\n",
    "\n",
    "peak_finding(h['2'],\"channel \"+str(2))\n",
    "\n",
    "# peak_finding(h['Sum'],\"sum\")\n",
    "\n",
    "\n",
    "\n",
    "\n",
    "\n",
    "leg.Draw()\n",
    "c.SetLeftMargin(0.11)\n",
    "c.SetBottomMargin(0.12)\n",
    "\n",
    "\n",
    "# c.SetLogy()\n",
    "c.SetGrid()\n",
    "c.Draw()\n",
    "\n",
    "# peak_finding(test,'sum')\n",
    "\n",
    "\n",
    "\n",
    "\n",
    "\n",
    "\n",
    "c.SaveAs(plot_path+'/energy.png')"
   ]
  },
  {
   "cell_type": "markdown",
   "metadata": {},
   "source": [
    "# 2d correlation"
   ]
  },
  {
   "cell_type": "code",
   "execution_count": 45,
   "metadata": {},
   "outputs": [
    {
     "name": "stderr",
     "output_type": "stream",
     "text": [
      "/usr/local/lib/python3.9/site-packages/root_numpy/_hist.py:70: DeprecationWarning: `np.int` is a deprecated alias for the builtin `int`. To silence this warning, use `int` by itself. Doing this will not modify any behavior and is safe. When replacing `np.int`, you may wish to use e.g. `np.int64` or `np.int32` to specify the precision. If you wish to review your current use, check the release note link for additional information.\n",
      "Deprecated in NumPy 1.20; for more details and guidance: https://numpy.org/devdocs/release/1.20.0-notes.html#deprecations\n",
      "  return _librootnumpy.fill_h2(\n",
      "Warning in <TCanvas::Constructor>: Deleting canvas with same name: c_spectrum\n",
      "Warning in <TROOT::Append>: Replacing existing TH1: h (Potential memory leak).\n",
      "Warning in <TROOT::Append>: Replacing existing TH1: h (Potential memory leak).\n",
      "Info in <TCanvas::Print>: png file /Users/christinawang/Desktop/Caltech/Research/DM/plots/202109272d_correlation.png has been created\n"
     ]
    },
    {
     "data": {
      "image/png": "[encoded data removed]",
      "text/plain": [
       "<IPython.core.display.Image object>"
      ]
     },
     "metadata": {},
     "output_type": "display_data"
    }
   ],
   "source": [
    "channel = [0,2]\n",
    "legend = ['DUT', 'tag']\n",
    "c = rt.TCanvas('c_spectrum', 'c_spectrum', 800, 600)\n",
    "rt.gStyle.SetOptStat(0)\n",
    "# rt.gStyle.SetOptFit(000002200)\n",
    "# rt.gStyle.SetTitleSize(0.8)\n",
    "leg = rt.TLegend(0.75,0.8,0.9,0.9)\n",
    "leg = rt.TLegend(0.2,0.8,0.4,0.88)\n",
    "\n",
    "leg.SetBorderSize(0)\n",
    "k = 'coincidence'\n",
    "# cond = np.logical_and(np.abs(gaus_sigma[k][:,0]/1000-6)<0.5, np.abs(gaus_sigma[k][:,2]/1000-6)<0.5)\n",
    "\n",
    "# cond = np.logical_and(cond, np.abs(time[k][:,0]-time[k][:,2])/1000 < 0.5)\n",
    "\n",
    "# cond = np.logical_and(cond, baseline_RMS[k][:,0]<24)\n",
    "\n",
    "cond = np.abs(gaus_sigma[k][:,2]/1000-6)<0.5\n",
    "cond = np.logical_and(cond, np.abs(time[k][:,0]-time[k][:,2])/1000 < 5)\n",
    "cond = np.logical_and(cond, baseline_RMS[k][:,0]<24)\n",
    "h = create_TH2D(np.column_stack((gaus_amp[k][:,0][cond], gaus_amp[k][:,2][cond])), binning = [50,0,150,50,0,150],\\\n",
    "                axis_title = ['Target [keV]','Tag [keV]', 'Events'])\n",
    "# h = create_TH2D(np.column_stack((integral[0], integral[2])), binning = [50,0,1.5,50,0,1.5],axis_title = ['DUT [MeV]','tag [MeV]', 'Events'])\n",
    "\n",
    "\n",
    "h.GetYaxis().SetTitleSize(0.05)\n",
    "h.GetXaxis().SetTitleSize(0.05)\n",
    "\n",
    "h.SetTitle('')\n",
    "# h = create_TH2D(np.column_stack(((t_15[0]-t_15[2])[cond], (t_45[0]-t_45[2])[cond])), binning = [50,-10,10,50,-10,10],axis_title = ['15','75', 'Events'])\n",
    "\n",
    "\n",
    "h.DrawCopy('colz')\n",
    "c.SetLeftMargin(0.11)\n",
    "\n",
    "c.SetRightMargin(0.15)\n",
    "\n",
    "c.SetBottomMargin(0.12)\n",
    "\n",
    "\n",
    "# c.SetLogz()\n",
    "c.SetGrid()\n",
    "c.Draw()\n",
    "c.SaveAs(plot_path+'2d_correlation.png')"
   ]
  },
  {
   "cell_type": "markdown",
   "metadata": {},
   "source": [
    "# plot time difference for random coincidence"
   ]
  },
  {
   "cell_type": "code",
   "execution_count": 77,
   "metadata": {},
   "outputs": [
    {
     "name": "stderr",
     "output_type": "stream",
     "text": [
      "/usr/local/lib/python3.9/site-packages/root_numpy/_hist.py:75: DeprecationWarning: `np.int` is a deprecated alias for the builtin `int`. To silence this warning, use `int` by itself. Doing this will not modify any behavior and is safe. When replacing `np.int`, you may wish to use e.g. `np.int64` or `np.int32` to specify the precision. If you wish to review your current use, check the release note link for additional information.\n",
      "Deprecated in NumPy 1.20; for more details and guidance: https://numpy.org/devdocs/release/1.20.0-notes.html#deprecations\n",
      "  return _librootnumpy.fill_h1(\n",
      "Warning in <TCanvas::Constructor>: Deleting canvas with same name: c_spectrum\n",
      "Warning in <TROOT::Append>: Replacing existing TH1: h (Potential memory leak).\n",
      "Info in <TCanvas::Print>: png file /Users/christinawang/Desktop/Caltech/Research/DM/plots/20210920time0-time2.png has been created\n"
     ]
    },
    {
     "data": {
      "image/png": "[encoded data removed]",
      "text/plain": [
       "<IPython.core.display.Image object>"
      ]
     },
     "metadata": {},
     "output_type": "display_data"
    }
   ],
   "source": [
    "channel = [0,2]\n",
    "legend = ['DUT', 'tag']\n",
    "c = rt.TCanvas('c_spectrum', 'c_spectrum', 800, 600)\n",
    "#rt.gStyle.SetOptFit(000002200)\n",
    "# rt.gStyle.SetOptFit(000002200)\n",
    "# rt.gStyle.SetTitleSize(0.8)\n",
    "leg = rt.TLegend(0.75,0.8,0.9,0.9)\n",
    "leg = rt.TLegend(0.6,0.7,0.8,0.88)\n",
    "leg.SetTextSize(0.05)\n",
    "h = {}\n",
    "leg.SetBorderSize(0)\n",
    "\n",
    "\n",
    "bins = [200,-200,200]\n",
    "\n",
    "bins = [500,-5,5]\n",
    "k = 'coincidence'\n",
    "cond = np.logical_and(gaus_amp[k][:,0]>0, gaus_amp[k][:,2]>0)\n",
    "cond = np.logical_and(np.abs(gaus_sigma[k][:,0]/1000-6)<0.5, np.abs(gaus_sigma[k][:,2]/1000-6)<0.5)\n",
    "\n",
    "cond = np.logical_and(np.abs(gaus_sigma[k][:,0]/1000-6)<0.5, np.abs(gaus_sigma[k][:,2]/1000-6)<0.5)\n",
    "\n",
    "cond = np.logical_and(cond, np.abs(time[k][:,0]-time[k][:,2])/1000 < 0.5)\n",
    "\n",
    "\n",
    "\n",
    "# cond = np.logical_and(cond, np.logical_and(baseline_RMS[k][:,0]<20, baseline_RMS[k][:,2]<20))\n",
    "# cond = np.logical_and(cond, baseline[k][:,0]>-10)\n",
    "\n",
    "cond =  np.abs(gaus_amp['coincidence'][:,0]+gaus_amp['coincidence'][:,2]-122)<1\n",
    "cond = np.logical_and(cond, np.abs(gaus_sigma[k][:,2]/1000-6)<0.5)\n",
    "\n",
    "h['ch'] = create_TH1D((time['coincidence'][:,0]-time['coincidence'][:,2])[cond]/1000, binning = [500,-5,5],axis_title = ['t_{target}-t_{tag} [#mu s]', 'Events'])\n",
    "\n",
    "\n",
    "\n",
    "\n",
    "\n",
    "for i, k in enumerate(h.keys()):\n",
    "    h[k].SetLineWidth(2)\n",
    "    h[k].SetLineColor(i+1)\n",
    "    leg.AddEntry(h[k], k)\n",
    "    h[k].SetMaximum(10000)\n",
    "#     h[k].SetMinimum(0.1)\n",
    "    h[k].SetTitle('')\n",
    "    \n",
    "    h[k].DrawNormalized('same')\n",
    "    v = h[k]\n",
    "\n",
    "#     SS = rt.TSpectrum()\n",
    "#     n_pks = SS.Search(v, 0.1, \"\", 0.02)\n",
    "#     x_pos = SS.GetPositionX()\n",
    "#     y_pos = SS.GetPositionY()\n",
    "#     pks = []\n",
    "#     print (n_pks)\n",
    "#     for i in range(n_pks):\n",
    "#         n_pk = v.FindBin(x_pos[i])\n",
    "#         if i == 0:\n",
    "#             thr = 0.4 * v.GetBinContent(n_pk)\n",
    "#         else:\n",
    "#             thr = 0.4 * v.GetBinContent(n_pk)\n",
    "#         n_low = n_pk\n",
    "#         while v.GetBinContent(n_low) > thr:\n",
    "#             n_low -= 1\n",
    "#         x_low = v.GetBinCenter(n_low)    \n",
    "#         n_up = n_pk\n",
    "#         while v.GetBinContent(n_up) > thr:\n",
    "#             n_up += 1\n",
    "#         x_up = v.GetBinCenter(n_up)\n",
    "#         r = v.Fit('gaus', 'LRSQ+', '', x_low, x_up)\n",
    "#         r = r.Get()\n",
    "#         print( 'Fit p-val = {:.2f}'.format(r.Prob()))\n",
    "#         print('number in nVs',r.Parameter(1), r.Parameter(2))\n",
    "\n",
    "\n",
    "# leg.Draw()\n",
    "c.SetLeftMargin(0.11)\n",
    "c.SetBottomMargin(0.12)\n",
    "\n",
    "\n",
    "c.SetLogy()\n",
    "c.SetGrid()\n",
    "c.Draw()\n",
    "c.SaveAs(plot_path+'time0-time2.png')\n"
   ]
  },
  {
   "cell_type": "markdown",
   "metadata": {},
   "source": [
    "# plot other branches"
   ]
  },
  {
   "cell_type": "code",
   "execution_count": 71,
   "metadata": {},
   "outputs": [
    {
     "name": "stderr",
     "output_type": "stream",
     "text": [
      "/usr/local/lib/python3.9/site-packages/root_numpy/_hist.py:75: DeprecationWarning: `np.int` is a deprecated alias for the builtin `int`. To silence this warning, use `int` by itself. Doing this will not modify any behavior and is safe. When replacing `np.int`, you may wish to use e.g. `np.int64` or `np.int32` to specify the precision. If you wish to review your current use, check the release note link for additional information.\n",
      "Deprecated in NumPy 1.20; for more details and guidance: https://numpy.org/devdocs/release/1.20.0-notes.html#deprecations\n",
      "  return _librootnumpy.fill_h1(\n",
      "/usr/local/lib/python3.9/site-packages/root_numpy/_hist.py:75: DeprecationWarning: `np.int` is a deprecated alias for the builtin `int`. To silence this warning, use `int` by itself. Doing this will not modify any behavior and is safe. When replacing `np.int`, you may wish to use e.g. `np.int64` or `np.int32` to specify the precision. If you wish to review your current use, check the release note link for additional information.\n",
      "Deprecated in NumPy 1.20; for more details and guidance: https://numpy.org/devdocs/release/1.20.0-notes.html#deprecations\n",
      "  return _librootnumpy.fill_h1(\n",
      "Warning in <TCanvas::Constructor>: Deleting canvas with same name: c_spectrum\n",
      "Warning in <TROOT::Append>: Replacing existing TH1: h (Potential memory leak).\n",
      "Warning in <TROOT::Append>: Replacing existing TH1: h (Potential memory leak).\n",
      "Info in <TCanvas::Print>: png file /Users/christinawang/Desktop/Caltech/Research/DM/plots/20210920time0-time2.png has been created\n"
     ]
    },
    {
     "data": {
      "image/png": "[encoded data removed]",
      "text/plain": [
       "<IPython.core.display.Image object>"
      ]
     },
     "metadata": {},
     "output_type": "display_data"
    }
   ],
   "source": [
    "channel = [0,2]\n",
    "legend = ['DUT', 'tag']\n",
    "c = rt.TCanvas('c_spectrum', 'c_spectrum', 800, 600)\n",
    "#rt.gStyle.SetOptFit(000002200)\n",
    "# rt.gStyle.SetOptFit(000002200)\n",
    "# rt.gStyle.SetTitleSize(0.8)\n",
    "leg = rt.TLegend(0.75,0.8,0.9,0.9)\n",
    "leg = rt.TLegend(0.6,0.7,0.8,0.88)\n",
    "leg.SetTextSize(0.05)\n",
    "h = {}\n",
    "leg.SetBorderSize(0)\n",
    "\n",
    "\n",
    "bins = [200,-200,200]\n",
    "\n",
    "bins = [500,-5,5]\n",
    "k = 'coincidence'\n",
    "cond = np.logical_and(np.abs(gaus_sigma[k][:,0]/1000-6)<0.5, np.abs(gaus_sigma[k][:,2]/1000-6)<0.5)\n",
    "\n",
    "cond = np.logical_and(cond, np.abs(time[k][:,0]-time[k][:,2])/1000 < 0.5)\n",
    "\n",
    "cond = np.logical_and(cond, baseline_RMS[k][:,0]<24)\n",
    "\n",
    "cond =  np.abs(gaus_amp['coincidence'][:,0]+gaus_amp['coincidence'][:,2]-122)<1\n",
    "cond = np.logical_and(cond, np.abs(gaus_sigma[k][:,2]/1000-6)<0.5)\n",
    "\n",
    "\n",
    "# cond = np.logical_and(cond, np.logical_and(baseline_RMS[k][:,0]<20, baseline_RMS[k][:,2]<20))\n",
    "# cond = np.logical_and(cond, baseline[k][:,0]>-10)\n",
    "for ch in [0,2]:\n",
    "\n",
    "    h[str(ch)] = create_TH1D(baseline_RMS['coincidence'][:,ch][cond], binning = [500,0,100],axis_title = ['baseline RMS [mV]', 'Events'])\n",
    "\n",
    "#     h[str(ch)] = create_TH1D(baseline['coincidence'][:,ch], binning = [500,0,20],axis_title = ['baseline [mV]', 'Events'])\n",
    "\n",
    "#     h[str(ch)] = create_TH1D(gaus_sigma['coincidence'][:,ch][cond]/1000, binning = [100,-1,20],axis_title = ['gaus sigma [#mu s]', 'Events'])\n",
    "\n",
    "\n",
    "\n",
    "# h['ch'] = create_TH1D((time['coincidence'][:,0]-time['coincidence'][:,2])/1000, binning = [1000,-20,20],axis_title = ['time [#mu s]', 'Events'])\n",
    "\n",
    "\n",
    "\n",
    "for i, k in enumerate(h.keys()):\n",
    "    h[k].SetLineWidth(2)\n",
    "    h[k].SetLineColor(i+1)\n",
    "    if '0' in k:leg.AddEntry(h[k], 'Target')\n",
    "    else: leg.AddEntry(h[k], 'Tag')\n",
    "#     h[k].SetMaximum(100000)\n",
    "#     h[k].SetMinimum(0.1)\n",
    "\n",
    "    h[k].SetTitle('')\n",
    "    h[k].DrawNormalized('same')\n",
    "    v = h[k]\n",
    "\n",
    "\n",
    "\n",
    "\n",
    "leg.Draw()\n",
    "c.SetLeftMargin(0.11)\n",
    "c.SetBottomMargin(0.12)\n",
    "\n",
    "\n",
    "c.SetLogy()\n",
    "c.SetGrid()\n",
    "c.Draw()\n",
    "c.SaveAs(plot_path+'time0-time2.png')\n",
    "\n"
   ]
  },
  {
   "cell_type": "code",
   "execution_count": 87,
   "metadata": {},
   "outputs": [
    {
     "data": {
      "text/plain": [
       "array([ -10.356878,   -9.369058,   -9.92995 , ..., -215.9565  ,\n",
       "         -8.92683 ,   -8.635994], dtype=float32)"
      ]
     },
     "execution_count": 87,
     "metadata": {},
     "output_type": "execute_result"
    }
   ],
   "source": [
    "baseline['coincidence'][:,0]"
   ]
  },
  {
   "cell_type": "code",
   "execution_count": 31,
   "metadata": {},
   "outputs": [],
   "source": [
    "threshold = {\n",
    "    '20210328': '36 mV',\n",
    "    '20210407': '12 mV',\n",
    "    '20210408': '7 mV',\n",
    "}"
   ]
  },
  {
   "cell_type": "markdown",
   "metadata": {},
   "source": [
    "# plot DUT when constrining tag"
   ]
  },
  {
   "cell_type": "code",
   "execution_count": 42,
   "metadata": {},
   "outputs": [
    {
     "name": "stdout",
     "output_type": "stream",
     "text": [
      "3221.0\n",
      "3770.0\n",
      "2226.0\n"
     ]
    },
    {
     "name": "stderr",
     "output_type": "stream",
     "text": [
      "Warning in <TCanvas::Constructor>: Deleting canvas with same name: c_spectrum\n",
      "Warning in <TROOT::Append>: Replacing existing TH1: h (Potential memory leak).\n",
      "Warning in <TROOT::Append>: Replacing existing TH1: h (Potential memory leak).\n"
     ]
    },
    {
     "data": {
      "image/png": "[encoded data removed]",
      "text/plain": [
       "<IPython.core.display.Image object>"
      ]
     },
     "metadata": {},
     "output_type": "display_data"
    }
   ],
   "source": [
    "channel = [0,2]\n",
    "legend = ['DUT', 'tag']\n",
    "# legend = []\n",
    "c = rt.TCanvas('c_spectrum', 'c_spectrum', 800, 600)\n",
    "rt.gStyle.SetOptStat(00)\n",
    "# rt.gStyle.SetOptFit(000002200)\n",
    "# rt.gStyle.SetTitleSize(0.8)\n",
    "leg = rt.TLegend(0.7,0.7,0.85,0.85)\n",
    "leg.SetTextSize(0.04)\n",
    "# leg = rt.TLegend(0.2,0.8,0.4,0.88)\n",
    "h = {}\n",
    "leg.SetBorderSize(0)\n",
    "bins = [50,0,1]\n",
    "\n",
    "\n",
    "\n",
    "\n",
    "\n",
    "\n",
    "for i, k in enumerate(integral.keys()):\n",
    "    cond_t = np.abs(t_15[k][0]-t_15[k][2])<0.5\n",
    "    cond = np.logical_and(cond_t, integral[k][2]>0.4)\n",
    "    h[k] = create_TH1D(integral[k][0][cond], binning = [150,0,0.5],axis_title = ['Energy [MeV]', 'Events'])\n",
    "    h[k].SetLineColor(i+1)\n",
    "    h[k].SetLineWidth(2)\n",
    "    print(h[k].Integral())\n",
    "    h[k].Scale(1./h[k].Integral())\n",
    "    h[k].SetMaximum(0.2)\n",
    "    leg.AddEntry(h[k],threshold[k])\n",
    "    h[k].DrawCopy('hist' if i == 0 else 'hist same')\n",
    "\n",
    "\n",
    "\n",
    "leg.Draw()\n",
    "c.SetLeftMargin(0.11)\n",
    "c.SetBottomMargin(0.12)\n",
    "\n",
    "\n",
    "c.SetLogy()\n",
    "c.SetGrid()\n",
    "c.Draw()\n",
    "\n"
   ]
  },
  {
   "cell_type": "markdown",
   "metadata": {},
   "source": [
    "# energy amplitude correlation"
   ]
  },
  {
   "cell_type": "code",
   "execution_count": 6,
   "metadata": {},
   "outputs": [
    {
     "name": "stderr",
     "output_type": "stream",
     "text": [
      "Warning in <TCanvas::Constructor>: Deleting canvas with same name: c_spectrum\n",
      "Warning in <TROOT::Append>: Replacing existing TH1: h (Potential memory leak).\n"
     ]
    },
    {
     "data": {
      "image/png": "[encoded data removed]",
      "text/plain": [
       "<IPython.core.display.Image object>"
      ]
     },
     "metadata": {},
     "output_type": "display_data"
    }
   ],
   "source": [
    "channel = [0,2]\n",
    "legend = ['DUT', 'tag']\n",
    "c = rt.TCanvas('c_spectrum', 'c_spectrum', 800, 600)\n",
    "rt.gStyle.SetOptStat(0)\n",
    "# rt.gStyle.SetOptFit(000002200)\n",
    "# rt.gStyle.SetTitleSize(0.8)\n",
    "leg = rt.TLegend(0.75,0.8,0.9,0.9)\n",
    "leg = rt.TLegend(0.2,0.8,0.4,0.88)\n",
    "\n",
    "leg.SetBorderSize(0)\n",
    "sum_temp = integral[0]+ integral[2]\n",
    "# cond = np.logical_and((time[0]-time[2])<50, (time[0]-time[2])>-50)\n",
    "\n",
    "cond = np.logical_and((t_15[0]-t_15[2])<2, (t_15[0]-t_15[2])>-2)\n",
    "# time_cut = 0.2\n",
    "# cond = np.logical_and((t_15[0]-t_15[2])<0.2, (t_15[0]-t_15[2])>-0.2)\n",
    "\n",
    "# cond = np.logical_and(cond, np.abs(sum_temp-0.686)<0.05)\n",
    "\n",
    "\n",
    "\n",
    "# cond = np.logical_and(cond,np.logical_and(sum_temp>0.6, sum_temp<0.7))\n",
    "# cond = np.logical_and((t_15[0]-t_15[2])<2.5, (t_15[0]-t_15[2])>1.5)\n",
    "\n",
    "h = create_TH2D(np.column_stack((integral[0][cond], amplitude[0][cond])), binning = [50,0,0.3,50,0,30],\\\n",
    "                axis_title = ['Integral [MeV]','Amplitude [mV]', 'Events'])\n",
    "# h = create_TH2D(np.column_stack((integral[2][cond], amplitude[2][cond])), binning = [50,0,1.5,50,0,200],\\\n",
    "#                 axis_title = ['Integral [MeV]','Amplitude [mV]', 'Events'])# h = create_TH2D(np.column_stack((integral[0], integral[2])), binning = [50,0,1.5,50,0,1.5],axis_title = ['DUT [MeV]','tag [MeV]', 'Events'])\n",
    "\n",
    "# h = h.ProfileX()\n",
    "h.GetYaxis().SetTitleSize(0.05)\n",
    "h.GetXaxis().SetTitleSize(0.05)\n",
    "\n",
    "h.SetTitle('')\n",
    "# h = create_TH2D(np.column_stack(((t_15[0]-t_15[2])[cond], (t_45[0]-t_45[2])[cond])), binning = [50,-10,10,50,-10,10],axis_title = ['15','75', 'Events'])\n",
    "\n",
    "\n",
    "h.DrawCopy('colz')\n",
    "c.SetLeftMargin(0.11)\n",
    "c.SetBottomMargin(0.12)\n",
    "\n",
    "\n",
    "# c.SetLogz()\n",
    "c.SetGrid()\n",
    "c.Draw()\n",
    "# c.SaveAs(plot_path+'2d_correlation.png')"
   ]
  },
  {
   "cell_type": "code",
   "execution_count": null,
   "metadata": {},
   "outputs": [],
   "source": []
  }
 ],
 "metadata": {
  "kernelspec": {
   "display_name": "Python 3",
   "language": "python",
   "name": "python3"
  },
  "language_info": {
   "codemirror_mode": {
    "name": "ipython",
    "version": 3
   },
   "file_extension": ".py",
   "mimetype": "text/x-python",
   "name": "python",
   "nbconvert_exporter": "python",
   "pygments_lexer": "ipython3",
   "version": "3.9.6"
  }
 },
 "nbformat": 4,
 "nbformat_minor": 2
}
