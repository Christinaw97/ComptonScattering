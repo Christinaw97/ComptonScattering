{
 "cells": [
  {
   "cell_type": "code",
   "execution_count": 1,
   "metadata": {},
   "outputs": [
    {
     "name": "stdout",
     "output_type": "stream",
     "text": [
      "Welcome to JupyROOT 6.22/04\n"
     ]
    }
   ],
   "source": [
    "import csv\n",
    "import numpy as np\n",
    "import ROOT as rt\n",
    "from glob import glob\n",
    "import os\n",
    "import uproot\n",
    "\n",
    "from histo_utilities import create_TH1D, create_TH2D\n",
    "\n",
    "\n",
    "donotdelete = []"
   ]
  },
  {
   "cell_type": "markdown",
   "metadata": {},
   "source": [
    "# load ROOT files"
   ]
  },
  {
   "cell_type": "code",
   "execution_count": 28,
   "metadata": {},
   "outputs": [
    {
     "name": "stdout",
     "output_type": "stream",
     "text": [
      "ch1_lyso_na22 /Users/christinawang/Desktop/Caltech/Research/DM/data//20210319//output_Na22Calib_DUT_run101_200_converted.root\n",
      "(500000, 1)\n",
      "ch1_lyso_cs137 /Users/christinawang/Desktop/Caltech/Research/DM/data//20210319//output_Cs137Calib_DUT_run251_350_converted.root\n",
      "(500000, 1)\n",
      "ch1_lyso_co57 /Users/christinawang/Desktop/Caltech/Research/DM/data//20210319//output_Co57Calib_DUT_run351_450_converted.root\n",
      "(500000, 1)\n",
      "ch3_lyso_na22 /Users/christinawang/Desktop/Caltech/Research/DM/data//20210319//output_Na22Calib_TAG_run201_250_converted.root\n",
      "(500000, 1)\n",
      "ch3_lyso_cs137 /Users/christinawang/Desktop/Caltech/Research/DM/data//20210319//output_Cs137Calib_TAG_run1_50_converted.root\n",
      "(500000, 1)\n",
      "ch3_lyso_co57 /Users/christinawang/Desktop/Caltech/Research/DM/data//20210319//output_Co57Calib_TAG_run451_500_converted.root\n",
      "(500000, 1)\n"
     ]
    }
   ],
   "source": [
    "f = {}\n",
    "calibration = {}\n",
    "# f['output'] = '/Users/christinawang/Desktop/Caltech/Research/DM/data/20210309/output_runAll_converted.root'\n",
    "# date = '/20210313/'\n",
    "# # channel 1 Lyso DUT\n",
    "# f['ch1_lyso_na22'] = '/Users/christinawang/Desktop/Caltech/Research/DM/data/'+date+'/output_Na22Calib_DUT_run1_10_converted.root'\n",
    "# f['ch1_lyso_cs137'] = '/Users/christinawang/Desktop/Caltech/Research/DM/data/'+date+'/output_Cs137Calib_DUT_run11_20_converted.root'\n",
    "# f['ch1_lyso_co57'] = '/Users/christinawang/Desktop/Caltech/Research/DM/data/'+date+'/output_Co57Calib_DUT_run71_80_converted.root'\n",
    "\n",
    "# # channel 3 NaI DUT\n",
    "# f['ch3_NaI_na22'] = '/Users/christinawang/Desktop/Caltech/Research/DM/data/'+date+'/output_Na22Calib_TAG_run21_40_converted.root'\n",
    "# f['ch3_NaI_cs137'] = '/Users/christinawang/Desktop/Caltech/Research/DM/data/'+date+'/output_Cs137Calib_TAG_run41_60_converted.root'\n",
    "# f['ch3_NaI_co57'] = '/Users/christinawang/Desktop/Caltech/Research/DM/data/'+date+'/output_Co57Calib_TAG_run61_70_converted.root'\n",
    "\n",
    "# # channel 3 Lyso DUT\n",
    "# date = '/20210315/'\n",
    "# f['ch3_lyso_na22'] = '/Users/christinawang/Desktop/Caltech/Research/DM/data/'+date+'/output_Na22Calib_lysoTAG_run11_20_converted.root'\n",
    "# f['ch3_lyso_cs137'] = '/Users/christinawang/Desktop/Caltech/Research/DM/data/'+date+'/output_Cs137Calib_lysoTAG_run1_10_converted.root'\n",
    "# f['ch3_lyso_co57'] = '/Users/christinawang/Desktop/Caltech/Research/DM/data/'+date+'/output_Co57Calib_lysoTAG_run21_30_converted.root'\n",
    "\n",
    "date = '/20210319/'\n",
    "# # channel 1 Lyso DUT\n",
    "f['ch1_lyso_na22'] = '/Users/christinawang/Desktop/Caltech/Research/DM/data/'+date+'/output_Na22Calib_DUT_run101_200_converted.root'\n",
    "f['ch1_lyso_cs137'] = '/Users/christinawang/Desktop/Caltech/Research/DM/data/'+date+'/output_Cs137Calib_DUT_run251_350_converted.root'\n",
    "f['ch1_lyso_co57'] = '/Users/christinawang/Desktop/Caltech/Research/DM/data/'+date+'/output_Co57Calib_DUT_run351_450_converted.root'\n",
    "\n",
    "# channel 3 Lyso DUT\n",
    "f['ch3_lyso_na22'] = '/Users/christinawang/Desktop/Caltech/Research/DM/data/'+date+'/output_Na22Calib_TAG_run201_250_converted.root'\n",
    "f['ch3_lyso_cs137'] = '/Users/christinawang/Desktop/Caltech/Research/DM/data/'+date+'/output_Cs137Calib_TAG_run1_50_converted.root'\n",
    "f['ch3_lyso_co57'] = '/Users/christinawang/Desktop/Caltech/Research/DM/data/'+date+'/output_Co57Calib_TAG_run451_500_converted.root'\n",
    "\n",
    "\n",
    "\n",
    "#0315\n",
    "# calibration['ch1'] = [0.0061307, -0.00344695] #p1, p0 / slope, y-intercept\n",
    "# calibration['ch3_lyso'] = [0.00365619, 0.0151283] #p1, p0 / slope, y-intercept\n",
    "# calibration['ch3_NaI'] = [0.0048185, 0.00979325] #p1, p0 / slope, y-intercept\n",
    "\n",
    "#0319, without Co57\n",
    "calibration['ch1'] = [0.00629087, -0.00606773] #p1, p0 / slope, y-intercept\n",
    "calibration['ch3_lyso'] = [0.00371937, 0.01129680] #p1, p0 / slope, y-intercept\n",
    "#with Co57\n",
    "calibration['ch1'] = [0.00625, -0.01292] #p1, p0 / slope, y-intercept\n",
    "calibration['ch3_lyso'] = [0.00369, 0.00353] #p1, p0 / slope, y-intercept\n",
    "\n",
    "\n",
    "\n",
    "plot_path = '/Users/christinawang/Desktop/Caltech/Research/DM/plots/'+date\n",
    "if not os.path.isdir(plot_path):os.makedirs(plot_path)\n",
    "# Amp_x_R = 1e-9*(1.0/50.0) * 1e12 # nV to pC\n",
    "peaks_pc = {}\n",
    "tree = {}\n",
    "h = {}\n",
    "integral = {}\n",
    "t_peak = {}\n",
    "t_15 = {}\n",
    "t_30 = {}\n",
    "t_45 = {}\n",
    "for k,v in f.items():\n",
    "    print (k, v)\n",
    "    root_dir = uproot.open(v) \n",
    "    tree[k] = root_dir['pulse']\n",
    "    a = np.array(tree[k][\"i_evt\"])\n",
    "    integral[k] = np.array(tree[k][\"integral\"]) # in pC\n",
    "#     if 'ch1' in k:integral[k] = integral[k]*calibration['ch1'][0]+calibration['ch1'][1]\n",
    "#     elif 'lyso' in k:integral[k] = integral[k]*calibration['ch3_lyso'][0]+calibration['ch3_lyso'][1]\n",
    "#     else: integral[k] = integral[k]*calibration['ch3_NaI'][0]+calibration['ch3_NaI'][1]\n",
    "    t_15[k] = np.array(tree[k][\"linear_RE_15\"])\n",
    "    t_30[k] = np.array(tree[k][\"linear_RE_30\"])\n",
    "    t_45[k] = np.array(tree[k][\"linear_RE_45\"])\n",
    "    t_peak[k] = np.array(tree[k][\"t_peak\"])\n",
    "    print(integral[k].shape)"
   ]
  },
  {
   "cell_type": "code",
   "execution_count": 29,
   "metadata": {},
   "outputs": [],
   "source": [
    "def peak_finding(v,k):\n",
    "    SS = rt.TSpectrum()\n",
    "    n_pks = SS.Search(v, 0.1, \"\", 0.002)\n",
    "    x_pos = SS.GetPositionX()\n",
    "    y_pos = SS.GetPositionY()\n",
    "    pks = []\n",
    "    print (n_pks)\n",
    "    for j in range(n_pks):\n",
    "        if not j == 0:continue\n",
    "        n_pk = v.FindBin(x_pos[j])\n",
    "        if j == 0:\n",
    "            thr = 0.4 * v.GetBinContent(n_pk)\n",
    "        else:\n",
    "            thr = 0.4 * v.GetBinContent(n_pk)\n",
    "        n_low = n_pk\n",
    "        while v.GetBinContent(n_low) > thr:\n",
    "            n_low -= 1\n",
    "        x_low = v.GetBinCenter(n_low)    \n",
    "        n_up = n_pk\n",
    "        while v.GetBinContent(n_up) > thr:\n",
    "            n_up += 1\n",
    "        x_up = v.GetBinCenter(n_up)\n",
    "        r = v.Fit('gaus', 'LRSQ+', '', x_low, x_up)\n",
    "        r = r.Get()\n",
    "        print( 'Fit p-val = {:.2f}'.format(r.Prob()))\n",
    "        print(k, 'number in nVs',r.Parameter(1), r.Parameter(2))\n",
    "\n",
    "\n"
   ]
  },
  {
   "cell_type": "markdown",
   "metadata": {},
   "source": [
    "# plot Cs137 or Na22 peak"
   ]
  },
  {
   "cell_type": "code",
   "execution_count": 44,
   "metadata": {
    "scrolled": false
   },
   "outputs": [
    {
     "name": "stdout",
     "output_type": "stream",
     "text": [
      "3\n",
      "Fit p-val = 0.00\n",
      "ch1_lyso_co57 number in nVs 15.671574161174123 2.1719486330941296\n"
     ]
    },
    {
     "name": "stderr",
     "output_type": "stream",
     "text": [
      "Warning in <TCanvas::Constructor>: Deleting canvas with same name: c_spectrum\n",
      "Warning in <TROOT::Append>: Replacing existing TH1: h (Potential memory leak).\n",
      "Info in <TCanvas::Print>: png file /Users/christinawang/Desktop/Caltech/Research/DM/plots//20210319/ch1_lyso_calibration.png has been created\n"
     ]
    },
    {
     "data": {
      "image/png": "[encoded data removed]",
      "text/plain": [
       "<IPython.core.display.Image object>"
      ]
     },
     "metadata": {},
     "output_type": "display_data"
    }
   ],
   "source": [
    "\n",
    "c = rt.TCanvas('c_spectrum', 'c_spectrum', 800, 600)\n",
    "#rt.gStyle.SetOptFit(000002200)\n",
    "# rt.gStyle.SetOptFit(000002200)\n",
    "# rt.gStyle.SetTitleSize(0.8)\n",
    "leg = rt.TLegend(0.15,0.65,0.4,0.9)\n",
    "leg = rt.TLegend(0.65,0.65,0.9,0.9)\n",
    "\n",
    "\n",
    "ch = 'ch3_lyso'\n",
    "ch = 'ch1_lyso'\n",
    "# ch = 'ch3_NaI'\n",
    "h = {}\n",
    "\n",
    "i = 0\n",
    "for k in tree.keys():\n",
    "    if not ch in k:continue\n",
    "#     if not 'ch1_lyso_na' in k:continue\n",
    "    if not 'co' in k:continue\n",
    "#     h[k] = create_TH1D(integral[k].flatten(), binning = [505,-500,5],axis_title = ['Energy [pC]', 'Events'])\n",
    "    h[k] = create_TH1D(-1*integral[k].flatten(), binning = [500,-5,400],axis_title = ['Charge [pC]', 'Events'])\n",
    "#     h[k] = create_TH1D(-1*integral[k].flatten(), binning = [500,150,400],axis_title = ['Charge [pC]', 'Events'])\n",
    "\n",
    "\n",
    "#     h[k] = create_TH1D(-1*integral[k].flatten(), binning = [500,-0.01,2],axis_title = ['Energy [Mev]', 'Events'])\n",
    "#     h[k] = create_TH1D(integral[k].flatten(), binning = [500,-2,-1],axis_title = ['Energy [Mev]', 'Events'])\n",
    "\n",
    "\n",
    "    v = h[k]\n",
    "\n",
    "    v.SetStats(0)\n",
    "    v.SetMaximum(100000)\n",
    "    v.SetTitle('')\n",
    "    v.GetXaxis().SetTitleSize(0.06)\n",
    "    v.GetXaxis().SetTitleOffset(0.9)\n",
    "    v.GetXaxis().SetLabelSize(0.05)\n",
    "\n",
    "    v.GetYaxis().SetTitleSize(0.06)\n",
    "    v.GetYaxis().SetTitleOffset(0.9)\n",
    "    v.GetYaxis().SetLabelSize(0.05)\n",
    "    v.SetLineColor(i+1)\n",
    "    v.SetLineWidth(2)\n",
    "    v.DrawCopy('' if i == 0 else 'same')\n",
    "    peak_finding(v,k)\n",
    "    leg.AddEntry(v,k.split('_')[2])\n",
    "    i+=1\n",
    "c.SetLeftMargin(0.11)\n",
    "c.SetBottomMargin(0.12)\n",
    "\n",
    "leg.Draw()\n",
    "c.SetLogy()\n",
    "c.SetGrid()\n",
    "c.Draw()\n",
    "c.SaveAs(plot_path+ch+'_calibration.png')\n",
    "donotdelete.append(c)"
   ]
  },
  {
   "cell_type": "code",
   "execution_count": 22,
   "metadata": {},
   "outputs": [
    {
     "name": "stdout",
     "output_type": "stream",
     "text": [
      "2\n",
      "Fit p-val = 0.01\n",
      "ch3_lyso_co57 number in nVs -0.6605652848028356 0.025915452551411446\n"
     ]
    },
    {
     "ename": "KeyboardInterrupt",
     "evalue": "",
     "output_type": "error",
     "traceback": [
      "\u001b[0;31m---------------------------------------------------------------------------\u001b[0m",
      "\u001b[0;31mKeyboardInterrupt\u001b[0m                         Traceback (most recent call last)",
      "\u001b[0;32m<ipython-input-22-fb6967d4ce92>\u001b[0m in \u001b[0;36m<module>\u001b[0;34m\u001b[0m\n\u001b[0;32m----> 1\u001b[0;31m \u001b[0mpeak_finding\u001b[0m\u001b[0;34m(\u001b[0m\u001b[0mv\u001b[0m\u001b[0;34m,\u001b[0m\u001b[0mk\u001b[0m\u001b[0;34m)\u001b[0m\u001b[0;34m\u001b[0m\u001b[0;34m\u001b[0m\u001b[0m\n\u001b[0m",
      "\u001b[0;32m<ipython-input-17-35c91d51eed8>\u001b[0m in \u001b[0;36mpeak_finding\u001b[0;34m(v, k)\u001b[0m\n\u001b[1;32m     17\u001b[0m         \u001b[0mx_low\u001b[0m \u001b[0;34m=\u001b[0m \u001b[0mv\u001b[0m\u001b[0;34m.\u001b[0m\u001b[0mGetBinCenter\u001b[0m\u001b[0;34m(\u001b[0m\u001b[0mn_low\u001b[0m\u001b[0;34m)\u001b[0m\u001b[0;34m\u001b[0m\u001b[0;34m\u001b[0m\u001b[0m\n\u001b[1;32m     18\u001b[0m         \u001b[0mn_up\u001b[0m \u001b[0;34m=\u001b[0m \u001b[0mn_pk\u001b[0m\u001b[0;34m\u001b[0m\u001b[0;34m\u001b[0m\u001b[0m\n\u001b[0;32m---> 19\u001b[0;31m         \u001b[0;32mwhile\u001b[0m \u001b[0mv\u001b[0m\u001b[0;34m.\u001b[0m\u001b[0mGetBinContent\u001b[0m\u001b[0;34m(\u001b[0m\u001b[0mn_up\u001b[0m\u001b[0;34m)\u001b[0m \u001b[0;34m>\u001b[0m \u001b[0mthr\u001b[0m\u001b[0;34m:\u001b[0m\u001b[0;34m\u001b[0m\u001b[0;34m\u001b[0m\u001b[0m\n\u001b[0m\u001b[1;32m     20\u001b[0m             \u001b[0mn_up\u001b[0m \u001b[0;34m+=\u001b[0m \u001b[0;36m1\u001b[0m\u001b[0;34m\u001b[0m\u001b[0;34m\u001b[0m\u001b[0m\n\u001b[1;32m     21\u001b[0m         \u001b[0mx_up\u001b[0m \u001b[0;34m=\u001b[0m \u001b[0mv\u001b[0m\u001b[0;34m.\u001b[0m\u001b[0mGetBinCenter\u001b[0m\u001b[0;34m(\u001b[0m\u001b[0mn_up\u001b[0m\u001b[0;34m)\u001b[0m\u001b[0;34m\u001b[0m\u001b[0;34m\u001b[0m\u001b[0m\n",
      "\u001b[0;31mKeyboardInterrupt\u001b[0m: "
     ]
    }
   ],
   "source": [
    "peak_finding(v,k)"
   ]
  },
  {
   "cell_type": "code",
   "execution_count": 46,
   "metadata": {},
   "outputs": [],
   "source": [
    "# gamma: 0.014 MeV (9.54 %) 0.122 MeV (85.6 %) 0.136 MeV (10.6 %) 0.692 MeV (0.02 %)\n",
    "\n",
    "peaks = {}\n",
    "peaks_err = {}\n",
    "#20210304\n",
    "# peaks['ch1'] = [0, -5.280926192021228, -12.95931811267492]\n",
    "# peaks['ch3'] = [0, -5.7478335887749, -13.721213969219207]\n",
    "\n",
    "# #20210309\n",
    "# peaks['ch1'] = [0, -4.197522172095162, -10.466599908996663]\n",
    "# peaks['ch3'] = [0, -6.15048884630184, -13.679261889284437]\n",
    "\n",
    "\n",
    "# #20210309, pC to MeV\n",
    "# peaks['ch1'] = [0, -83.95044344192999, -209.33199817997013]\n",
    "# peaks['ch3'] = [0, -83.95044344192999, -209.33199817997013]\n",
    "\n",
    "#20210313, pC to Mev\n",
    "# peaks['ch1_lyso'] = [0, -82.66076459305629, -106.42531775932673, -207.96680971672873] #lyso PMT, xp2020\n",
    "# peaks['ch3_NaI'] = [0,  -145.958, -191.744, -348.398] #NaI PMT, p-14\n",
    "# peaks['ch3_lyso'] = [0,  -109.84651970415523, -141.5687274233969, -264.7561893719911] #NaI PMT, p-14\n",
    "\n",
    "#20210319, pC to Mev\n",
    "#without co57\n",
    "# peaks['ch1_lyso'] = [0, -78.62749, -104.34206, -202.30791] #lyso PMT, xp2020\n",
    "# peaks['ch3_lyso'] = [0,  -142.62112, -184.83235, -342.87100] #NaI PMT, p-14\n",
    "\n",
    "# y_peak = [0, 0.511,0.662, 1.275]\n",
    "#with co57\n",
    "# peaks['ch1_lyso'] = [0, -15.69235,-78.62749, -104.34206, -202.30791] #lyso PMT, xp2020\n",
    "# peaks['ch3_lyso'] = [0,  -30.68574, -142.62112, -184.83235, -342.87100] #NaI PMT, p-14\n",
    "\n",
    "# y_peak = [ 0.0, 0.122,  0.511,0.662, 1.275]\n",
    "\n",
    "peaks['ch1_lyso'] = [ 15.69235,78.62749, 104.34206, 202.30791] #lyso PMT, xp2020\n",
    "peaks['ch3_lyso'] = [  30.68574, 142.62112, 184.83235, 342.87100] #NaI PMT, p-14\n",
    "peaks_err['ch1_lyso'] = [ 2.1719486330941296,5.639255305286408, 6.224521763171896, 8.54237872689275] #lyso PMT, xp2020\n",
    "peaks_err['ch3_lyso'] = [  3.016469582987398, 6.389292976553309, 7.127491679735589, 8.268431043952758] #NaI PMT, p-14\n",
    "\n",
    "\n",
    " \n",
    "y_peak = [  0.122,  0.511,0.662, 1.275]"
   ]
  },
  {
   "cell_type": "code",
   "execution_count": 55,
   "metadata": {},
   "outputs": [],
   "source": [
    "gr_gain = {}\n",
    "for k in peaks.keys():\n",
    "    gr_gain[k] = rt.TGraphErrors(len(peaks[k]))\n",
    "    for i in range(len(peaks[k])):\n",
    "        gr_gain[k].SetPoint(int(i), peaks[k][i], y_peak[i])\n",
    "        gr_gain[k].SetPointError(int(i), peaks_err[k][i],0.0)\n"
   ]
  },
  {
   "cell_type": "code",
   "execution_count": 60,
   "metadata": {
    "scrolled": false
   },
   "outputs": [
    {
     "name": "stdout",
     "output_type": "stream",
     "text": [
      "\n",
      "****************************************\n",
      "Minimizer is Minuit / Migrad\n",
      "Chi2                      =      1.42083\n",
      "NDf                       =            2\n",
      "Edm                       =    6.626e-10\n",
      "NCalls                    =           55\n",
      "p0                        =   0.00632371   +/-   0.0122651   \n",
      "p1                        =   0.00364309   +/-   9.20943e-05 \n",
      "\n",
      "ch3_lyso p-val = 0.491\n",
      " FCN=1.42083 FROM MIGRAD    STATUS=CONVERGED      54 CALLS          55 TOTAL\n",
      "                     EDM=6.626e-10    STRATEGY= 1      ERROR MATRIX ACCURATE \n",
      "  EXT PARAMETER                                   STEP         FIRST   \n",
      "  NO.   NAME      VALUE            ERROR          SIZE      DERIVATIVE \n",
      "   1  p0           6.32371e-03   1.22651e-02   6.73827e-06  -6.63524e-04\n",
      "   2  p1           3.64309e-03   9.20943e-05   5.05913e-08   3.29048e-01\n"
     ]
    },
    {
     "name": "stderr",
     "output_type": "stream",
     "text": [
      "Warning in <TCanvas::Constructor>: Deleting canvas with same name: c_gain\n"
     ]
    },
    {
     "data": {
      "image/png": "[encoded data removed]",
      "text/plain": [
       "<IPython.core.display.Image object>"
      ]
     },
     "metadata": {},
     "output_type": "display_data"
    }
   ],
   "source": [
    "c_gain = rt.TCanvas('c_gain', 'c_gain', 900, 600)\n",
    "\n",
    "for i, k in enumerate(gr_gain.keys()):\n",
    "    if not i == 1:continue\n",
    "    r = gr_gain[k].Fit('pol1', 'S')\n",
    "    r = r.Get()\n",
    "    print(r)\n",
    "    print(k, 'p-val = {:.3f}'.format(r.Prob()))\n",
    "    \n",
    "    gr_gain[k].SetMarkerColor(1)\n",
    "    gr_gain[k].SetMarkerSize(2)\n",
    "    gr_gain[k].SetLineWidth(2)\n",
    "\n",
    "\n",
    "\n",
    "    gr_gain[k].Draw('AP*E1' if i== 0 else 'AP*E1 same')\n",
    "    gr_gain[k].Draw('AP*E1')\n",
    "\n",
    "\n",
    "    gr_gain[k].SetTitle(\"\")\n",
    "    gr_gain[k].GetXaxis().SetTitle('Charge [pC]')\n",
    "    gr_gain[k].GetYaxis().SetTitle('Energy [MeV]')\n",
    "    gr_gain[k].GetYaxis().SetLimits(0,2)\n",
    "    if i == 0: gr_gain[k].GetXaxis().SetLimits(0, 300)\n",
    "    else:gr_gain[k].GetXaxis().SetLimits(0, 500)\n",
    "\n",
    "\n",
    "    gr_gain[k].GetXaxis().SetTitleSize(0.06)\n",
    "    gr_gain[k].GetXaxis().SetTitleOffset(0.9)\n",
    "    gr_gain[k].GetXaxis().SetLabelSize(0.05)\n",
    "\n",
    "    gr_gain[k].GetYaxis().SetTitleSize(0.06)\n",
    "    gr_gain[k].GetYaxis().SetTitleOffset(0.9)\n",
    "    gr_gain[k].GetYaxis().SetLabelSize(0.05)\n",
    "\n",
    "c_gain.SetLeftMargin(0.11)\n",
    "c_gain.SetBottomMargin(0.12)\n",
    "\n",
    "c_gain.SetGrid()\n",
    "c_gain.Draw()\n",
    "\n",
    "# rt.gStyle.SetOptFit(0)"
   ]
  },
  {
   "cell_type": "code",
   "execution_count": 44,
   "metadata": {},
   "outputs": [
    {
     "data": {
      "text/plain": [
       "(100000, 1)"
      ]
     },
     "execution_count": 44,
     "metadata": {},
     "output_type": "execute_result"
    }
   ],
   "source": [
    "# t_15[k].shape\n",
    "integral[k].shape"
   ]
  },
  {
   "cell_type": "code",
   "execution_count": 80,
   "metadata": {},
   "outputs": [
    {
     "name": "stdout",
     "output_type": "stream",
     "text": [
      "ch1_lyso_na2215 0.0\n",
      "ch1_lyso_na2230 0.0\n",
      "ch1_lyso_na2245 0.0\n"
     ]
    },
    {
     "name": "stderr",
     "output_type": "stream",
     "text": [
      "Warning in <TCanvas::Constructor>: Deleting canvas with same name: c_spectrum\n",
      "Warning in <TROOT::Append>: Replacing existing TH1: h (Potential memory leak).\n",
      "Warning in <TROOT::Append>: Replacing existing TH1: h (Potential memory leak).\n",
      "Warning in <TROOT::Append>: Replacing existing TH1: h (Potential memory leak).\n"
     ]
    },
    {
     "data": {
      "image/png": "[encoded data removed]",
      "text/plain": [
       "<IPython.core.display.Image object>"
      ]
     },
     "metadata": {},
     "output_type": "display_data"
    }
   ],
   "source": [
    "# plot time\n",
    "\n",
    "\n",
    "c = rt.TCanvas('c_spectrum', 'c_spectrum', 800, 600)\n",
    "#rt.gStyle.SetOptFit(000002200)\n",
    "# rt.gStyle.SetOptFit(000002200)\n",
    "# rt.gStyle.SetTitleSize(0.8)\n",
    "leg = rt.TLegend(0.15,0.65,0.4,0.9)\n",
    "# ch = 'ch3_lyso'\n",
    "ch = 'ch1_lyso'\n",
    "# ch = 'ch3_NaI'\n",
    "h = {}\n",
    "\n",
    "i = 0\n",
    "for k in tree.keys():\n",
    "    if not ch in k:continue\n",
    "    if not 'na' in k:continue\n",
    "#     if not 'na' in k:continue\n",
    "    bins = [500,-4,4]\n",
    "    cond = np.logical_and(integral[k]<-100, integral[k]>-125)\n",
    "    h[k+'15'] = create_TH1D(t_15[k][cond], binning = bins,axis_title = ['time [ns]', 'Events'])\n",
    "    h[k+'30'] = create_TH1D(t_30[k][cond], binning = bins,axis_title = ['time [ns]', 'Events'])\n",
    "    h[k+'45'] = create_TH1D(t_45[k][cond], binning = bins ,axis_title = ['time [ns]', 'Events'])\n",
    "\n",
    "#     h[k+'peak'] = create_TH1D(t_peak[k][cond], binning = bins,axis_title = ['time [ns]', 'Events'])\n",
    "\n",
    "\n",
    "\n",
    "\n",
    "for i,k in enumerate(h.keys()):\n",
    "    print(k,h[k].Integral())\n",
    "\n",
    "    v = h[k]\n",
    "\n",
    "#     peak_finding(v)\n",
    "\n",
    "    v.SetStats(0)\n",
    "    v.SetMaximum(100000)\n",
    "    v.GetXaxis().SetTitleSize(0.06)\n",
    "    v.GetXaxis().SetTitleOffset(0.9)\n",
    "    v.GetXaxis().SetLabelSize(0.05)\n",
    "\n",
    "    v.GetYaxis().SetTitleSize(0.06)\n",
    "    v.GetYaxis().SetTitleOffset(0.9)\n",
    "    v.GetYaxis().SetLabelSize(0.05)\n",
    "    v.SetLineColor(i+1)\n",
    "    v.SetLineWidth(2)\n",
    "    v.DrawCopy('' if i == 0 else 'same')\n",
    "    leg.AddEntry(v,k)\n",
    "    i+=1\n",
    "c.SetLeftMargin(0.11)\n",
    "c.SetBottomMargin(0.12)\n",
    "\n",
    "leg.Draw()\n",
    "c.SetLogy()\n",
    "c.SetGrid()\n",
    "c.Draw()\n",
    "# c.SaveAs(plot_path+ch+'_calibration.png')\n",
    "donotdelete.append(c)"
   ]
  },
  {
   "cell_type": "code",
   "execution_count": null,
   "metadata": {},
   "outputs": [],
   "source": []
  }
 ],
 "metadata": {
  "kernelspec": {
   "display_name": "Python 2",
   "language": "python",
   "name": "python2"
  },
  "language_info": {
   "codemirror_mode": {
    "name": "ipython",
    "version": 3
   },
   "file_extension": ".py",
   "mimetype": "text/x-python",
   "name": "python",
   "nbconvert_exporter": "python",
   "pygments_lexer": "ipython3",
   "version": "3.9.6"
  }
 },
 "nbformat": 4,
 "nbformat_minor": 2
}
